{
 "cells": [
  {
   "cell_type": "markdown",
   "id": "5d00d122",
   "metadata": {},
   "source": [
    "# Echantillonneur de Gibbs"
   ]
  },
  {
   "cell_type": "code",
   "execution_count": 1,
   "id": "f625ddca",
   "metadata": {},
   "outputs": [],
   "source": [
    "import numpy as np\n",
    "from scipy.stats import norm\n",
    "from scipy.stats import gamma\n",
    "import matplotlib.pyplot as plt"
   ]
  },
  {
   "cell_type": "markdown",
   "id": "ac731a2e",
   "metadata": {},
   "source": [
    "https://docs.scipy.org/doc/scipy/reference/generated/scipy.stats.norm.html\n",
    "\n",
    "https://docs.scipy.org/doc/scipy/reference/generated/scipy.stats.gamma.html"
   ]
  },
  {
   "cell_type": "code",
   "execution_count": 2,
   "id": "a345bd2a",
   "metadata": {},
   "outputs": [],
   "source": [
    "gamma.pdf(2, 2, 0, 1/3)\n",
    "np.random.seed(123)"
   ]
  },
  {
   "cell_type": "code",
   "execution_count": 31,
   "id": "80fa816b",
   "metadata": {},
   "outputs": [],
   "source": [
    "m0 = 5\n",
    "s0 = 4\n",
    "alpha = 3\n",
    "beta = 0.5\n",
    "nbChauffe = 20000\n",
    "nbEchantillon = 2000 + nbChauffe"
   ]
  },
  {
   "cell_type": "code",
   "execution_count": 32,
   "id": "203a628b",
   "metadata": {},
   "outputs": [],
   "source": [
    "m = np.sqrt(s0) * norm.rvs(loc = m0, scale = 1, size = 1)\n",
    "s = 1 / gamma.rvs(a = alpha, loc = 0, scale = 1 / beta, size = 1)\n",
    "Y = norm.rvs(loc = m, scale = np.sqrt(s), size = nbEchantillon)"
   ]
  },
  {
   "cell_type": "markdown",
   "id": "c28c84af",
   "metadata": {},
   "source": [
    "https://numpy.org/doc/stable/reference/generated/numpy.ndarray.flatten.html"
   ]
  },
  {
   "cell_type": "code",
   "execution_count": 33,
   "id": "fe9d45e6",
   "metadata": {},
   "outputs": [
    {
     "data": {
      "image/png": "[encoded data removed]",
      "text/plain": [
       "<Figure size 432x288 with 1 Axes>"
      ]
     },
     "metadata": {
      "needs_background": "light"
     },
     "output_type": "display_data"
    }
   ],
   "source": [
    "plt.hist(Y.flatten(),bins=1000)\n",
    "plt.grid()\n",
    "plt.show()"
   ]
  },
  {
   "cell_type": "code",
   "execution_count": 34,
   "id": "5078c7c4",
   "metadata": {},
   "outputs": [
    {
     "name": "stdout",
     "output_type": "stream",
     "text": [
      "m : [8.61458824], s = [0.2877234]\n"
     ]
    }
   ],
   "source": [
    "print('m : {}, s = {}'.format(m,s))"
   ]
  },
  {
   "cell_type": "code",
   "execution_count": 35,
   "id": "cedd333a",
   "metadata": {},
   "outputs": [],
   "source": [
    "from scipy.io import savemat\n",
    "mesDonnees1 = {'Y' : Y,\n",
    "              'm0' : m0,\n",
    "              's0' : s0,\n",
    "              'alpha' : alpha,\n",
    "              'beta' : beta}\n",
    "savemat('Gibbs.mat', mesDonnees1)\n",
    "mesDonnees2 = {'m' : m,\n",
    "               's' : s}\n",
    "savemat('GibbVraiesValeur.mat', mesDonnees2)"
   ]
  },
  {
   "cell_type": "code",
   "execution_count": 36,
   "id": "b01e65f7",
   "metadata": {},
   "outputs": [],
   "source": [
    "del m0\n",
    "del s0\n",
    "del alpha\n",
    "del beta\n",
    "del m\n",
    "del s\n",
    "del Y"
   ]
  },
  {
   "cell_type": "code",
   "execution_count": 37,
   "id": "a56190e1",
   "metadata": {},
   "outputs": [],
   "source": [
    "from scipy.io import loadmat\n",
    "matDonnees = loadmat('Gibbs')\n",
    "matVraieDonnees = loadmat('GibbVraiesValeur')"
   ]
  },
  {
   "cell_type": "code",
   "execution_count": 38,
   "id": "77c2dd10",
   "metadata": {},
   "outputs": [],
   "source": [
    "Y = matDonnees['Y']\n",
    "m0 = matDonnees['m0']\n",
    "s0 = matDonnees['s0']\n",
    "alpha = matDonnees['alpha']\n",
    "beta = matDonnees['beta']"
   ]
  },
  {
   "cell_type": "code",
   "execution_count": 39,
   "id": "7fcd070b",
   "metadata": {},
   "outputs": [
    {
     "name": "stdout",
     "output_type": "stream",
     "text": [
      "22000\n"
     ]
    }
   ],
   "source": [
    "m = matVraieDonnees['m']\n",
    "s = matVraieDonnees['s']\n",
    "print(len(Y.flatten()))"
   ]
  },
  {
   "cell_type": "code",
   "execution_count": 40,
   "id": "1f0f12e1",
   "metadata": {},
   "outputs": [
    {
     "data": {
      "image/png": "[encoded data removed]",
      "text/plain": [
       "<Figure size 432x288 with 1 Axes>"
      ]
     },
     "metadata": {
      "needs_background": "light"
     },
     "output_type": "display_data"
    }
   ],
   "source": [
    "plt.figure()\n",
    "plt.hist(Y.flatten(),bins = int(len(Y.flatten())/1000))\n",
    "plt.grid()\n",
    "plt.show()"
   ]
  },
  {
   "cell_type": "code",
   "execution_count": 46,
   "id": "b90a63c8",
   "metadata": {},
   "outputs": [],
   "source": [
    "from IPython.display import clear_output\n",
    "\n",
    "X = np.zeros(shape = (2, nbEchantillon))\n",
    "X[0, 0] = norm.rvs(loc = m0, scale = np.sqrt(s0), size = 1)\n",
    "X[1, 0] = 1 / gamma.rvs(a = alpha, loc = 0, scale = 1 / beta, size = 1)\n",
    "for i in range(1, nbEchantillon, 1):\n",
    "    M = (s0 / (nbEchantillon * s0 + X[1, i - 1])) * np.sum(Y) + m0 * X[1, i-1] / (nbEchantillon * s0 + X[1,i-1])\n",
    "    S = s0 * X[1, i-1] / (nbEchantillon * s0 + X[1, i-1])\n",
    "    X[0, i] = norm.rvs(loc = M, scale = np.sqrt(S), size = 1)\n",
    "    A = alpha + (nbEchantillon / 2)\n",
    "    u = (Y - X[0, i])\n",
    "    v = (Y - X[0, i]).reshape(-1, 1)\n",
    "    B = beta + 0.5 * (u @ v)\n",
    "    X[1, i] = 1 / gamma.rvs(a = A, loc = 0, scale = 1 / B, size = 1)"
   ]
  },
  {
   "cell_type": "code",
   "execution_count": 47,
   "id": "ffe1aaf7",
   "metadata": {
    "scrolled": true
   },
   "outputs": [
    {
     "data": {
      "image/png": "[encoded data removed]",
      "text/plain": [
       "<Figure size 432x288 with 2 Axes>"
      ]
     },
     "metadata": {
      "needs_background": "light"
     },
     "output_type": "display_data"
    }
   ],
   "source": [
    "plt.subplot(2,1,1)\n",
    "plt.plot(X[0, nbChauffe : nbEchantillon])\n",
    "plt.grid()\n",
    "plt.subplot(2,1,2)\n",
    "plt.hist(X[0, nbChauffe : nbEchantillon])\n",
    "plt.grid()\n",
    "plt.show()"
   ]
  },
  {
   "cell_type": "code",
   "execution_count": 48,
   "id": "f782e22d",
   "metadata": {},
   "outputs": [
    {
     "name": "stdout",
     "output_type": "stream",
     "text": [
      "Estimation de m :  8.617519517345205\n"
     ]
    }
   ],
   "source": [
    "mHat = np.sum(X[0, nbChauffe : nbEchantillon]) / len(X[0, nbChauffe : nbEchantillon])\n",
    "print('Estimation de m : ', mHat)"
   ]
  },
  {
   "cell_type": "code",
   "execution_count": 49,
   "id": "093b4e09",
   "metadata": {},
   "outputs": [
    {
     "data": {
      "image/png": "[encoded data removed]",
      "text/plain": [
       "<Figure size 432x288 with 2 Axes>"
      ]
     },
     "metadata": {
      "needs_background": "light"
     },
     "output_type": "display_data"
    }
   ],
   "source": [
    "plt.subplot(2,1,1)\n",
    "plt.plot(X[1, nbChauffe : nbEchantillon])\n",
    "plt.grid()\n",
    "plt.subplot(2,1,2)\n",
    "plt.hist(X[1, nbChauffe : nbEchantillon])\n",
    "plt.grid()\n",
    "plt.show()"
   ]
  },
  {
   "cell_type": "code",
   "execution_count": 50,
   "id": "b3468219",
   "metadata": {},
   "outputs": [
    {
     "name": "stdout",
     "output_type": "stream",
     "text": [
      "Estimation de s :  0.28727648846856063\n"
     ]
    }
   ],
   "source": [
    "sHat = np.sum(X[1, nbChauffe : nbEchantillon]) / len(X[1, nbChauffe : nbEchantillon])\n",
    "print('Estimation de s : ', sHat)"
   ]
  }
 ],
 "metadata": {
  "kernelspec": {
   "display_name": "Python 3",
   "language": "python",
   "name": "python3"
  },
  "language_info": {
   "codemirror_mode": {
    "name": "ipython",
    "version": 3
   },
   "file_extension": ".py",
   "mimetype": "text/x-python",
   "name": "python",
   "nbconvert_exporter": "python",
   "pygments_lexer": "ipython3",
   "version": "3.7.4"
  }
 },
 "nbformat": 4,
 "nbformat_minor": 5
}
