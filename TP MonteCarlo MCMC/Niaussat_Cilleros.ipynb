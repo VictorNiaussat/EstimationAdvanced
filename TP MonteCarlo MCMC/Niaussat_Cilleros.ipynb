{
 "cells": [
  {
   "cell_type": "markdown",
   "id": "76b89e90",
   "metadata": {},
   "source": [
    "# TP Simulations de Variables Aléatoires"
   ]
  },
  {
   "cell_type": "code",
   "execution_count": 3,
   "id": "0241ce6f",
   "metadata": {},
   "outputs": [],
   "source": [
    "import numpy as np\n",
    "from matplotlib import pyplot as plt\n",
    "import numpy.random as nprd"
   ]
  },
  {
   "cell_type": "markdown",
   "id": "bd8e764e",
   "metadata": {},
   "source": [
    "## Partie 1 "
   ]
  },
  {
   "cell_type": "code",
   "execution_count": null,
   "id": "84536ca5",
   "metadata": {},
   "outputs": [],
   "source": []
  },
  {
   "cell_type": "markdown",
   "id": "99967b4c",
   "metadata": {},
   "source": [
    "## Partie2"
   ]
  },
  {
   "cell_type": "code",
   "execution_count": null,
   "id": "54daa242",
   "metadata": {},
   "outputs": [],
   "source": []
  }
 ],
 "metadata": {
  "kernelspec": {
   "display_name": "Python 3",
   "language": "python",
   "name": "python3"
  },
  "language_info": {
   "codemirror_mode": {
    "name": "ipython",
    "version": 3
   },
   "file_extension": ".py",
   "mimetype": "text/x-python",
   "name": "python",
   "nbconvert_exporter": "python",
   "pygments_lexer": "ipython3",
   "version": "3.7.4"
  }
 },
 "nbformat": 4,
 "nbformat_minor": 5
}
