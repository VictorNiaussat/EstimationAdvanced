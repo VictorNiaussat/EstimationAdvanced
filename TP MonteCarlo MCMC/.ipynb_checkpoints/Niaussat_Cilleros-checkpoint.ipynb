{
 "cells": [
  {
   "cell_type": "markdown",
   "id": "57530fd9",
   "metadata": {},
   "source": [
    "# TP Simulations de Variables Aléatoires"
   ]
  },
  {
   "cell_type": "markdown",
   "id": "42e74ea9",
   "metadata": {},
   "source": [
    "## Partie 1 "
   ]
  },
  {
   "cell_type": "code",
   "execution_count": null,
   "id": "00d093b4",
   "metadata": {},
   "outputs": [],
   "source": []
  },
  {
   "cell_type": "markdown",
   "id": "ab4d3509",
   "metadata": {},
   "source": [
    "## Partie2"
   ]
  },
  {
   "cell_type": "code",
   "execution_count": null,
   "id": "23a32366",
   "metadata": {},
   "outputs": [],
   "source": []
  }
 ],
 "metadata": {
  "kernelspec": {
   "display_name": "Python 3",
   "language": "python",
   "name": "python3"
  },
  "language_info": {
   "codemirror_mode": {
    "name": "ipython",
    "version": 3
   },
   "file_extension": ".py",
   "mimetype": "text/x-python",
   "name": "python",
   "nbconvert_exporter": "python",
   "pygments_lexer": "ipython3",
   "version": "3.7.4"
  }
 },
 "nbformat": 4,
 "nbformat_minor": 5
}
