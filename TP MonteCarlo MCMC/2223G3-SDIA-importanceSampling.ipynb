{
 "cells": [
  {
   "cell_type": "markdown",
   "id": "c06028ca",
   "metadata": {},
   "source": [
    "### Implementation of importance sampling for example 1.3 of the document entitled ''A brief introduction to Monte Carlo methods''. ."
   ]
  },
  {
   "cell_type": "code",
   "execution_count": null,
   "id": "e77fbbf7",
   "metadata": {},
   "outputs": [],
   "source": [
    "from scipy.stats import norm\n",
    "import numpy as np\n",
    "import matplotlib.pyplot as plt\n",
    "# Probability density function we want to approximate\n",
    "def p(x):\n",
    "    norm1 = norm(loc = 3, scale = 1)\n",
    "    norm2 = norm(loc = -2, scale = 1)\n",
    "    return 0.7 * norm1.pdf(x = x) + 0.3 * norm2.pdf(x = x)\n",
    "# Importance probability density function\n",
    "importanceDensity = norm(loc = 0, scale = 3)\n",
    "def piPdf(importanceDistribution , x):\n",
    "    return importanceDistribution.pdf(x = x)\n",
    "# Importance probability density function samples\n",
    "def piSample(importanceDistribution , nbSample):\n",
    "    return importanceDistribution.rvs ( size = nbSample)\n",
    "# Variables needed for the implementation\n",
    "nbParticle = 30\n",
    "xTilde = np.zeros(shape = nbParticle)\n",
    "wTilde = np.zeros(shape = nbParticle)\n",
    "wNormalizedTilde = np.zeros(shape = nbParticle)\n",
    "# Algorithm\n",
    "for i in range(0 , nbParticle , 1):\n",
    "    xTilde[i] = piSample(importanceDistribution = importanceDensity, nbSample = 1)\n",
    "    pTilde = p(x = xTilde[i])\n",
    "    piTilde = piPdf(importanceDistribution = importanceDensity, x = xTilde[i])\n",
    "    wTilde [i] = pTilde / piTilde\n",
    "wSum = np.sum(wTilde)\n",
    "for i in range(0 , nbParticle , 1):\n",
    "    wNormalizedTilde[i] = wTilde [i] / wSum"
   ]
  },
  {
   "cell_type": "code",
   "execution_count": null,
   "id": "601f6d81",
   "metadata": {
    "scrolled": true
   },
   "outputs": [],
   "source": [
    "x = np.arange(-10, 10, 0.01)\n",
    "yp = p(x)\n",
    "ypi = piPdf(importanceDistribution = importanceDensity, x = x)\n",
    "plt.plot(x, yp, label = 'Density to approximate')\n",
    "plt.plot(x, ypi, label = 'Importance density')\n",
    "plt.stem(xTilde, wNormalizedTilde, linefmt = 'red', label = 'Density approximation')\n",
    "plt.legend()\n",
    "plt.show()"
   ]
  },
  {
   "cell_type": "code",
   "execution_count": null,
   "id": "d741cbd1",
   "metadata": {},
   "outputs": [],
   "source": []
  }
 ],
 "metadata": {
  "kernelspec": {
   "display_name": "Python 3 (ipykernel)",
   "language": "python",
   "name": "python3"
  },
  "language_info": {
   "codemirror_mode": {
    "name": "ipython",
    "version": 3
   },
   "file_extension": ".py",
   "mimetype": "text/x-python",
   "name": "python",
   "nbconvert_exporter": "python",
   "pygments_lexer": "ipython3",
   "version": "3.8.13"
  }
 },
 "nbformat": 4,
 "nbformat_minor": 5
}
