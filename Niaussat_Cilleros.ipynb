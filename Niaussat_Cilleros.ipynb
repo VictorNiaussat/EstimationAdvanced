{
 "cells": [
  {
   "cell_type": "code",
   "execution_count": 1,
   "metadata": {},
   "outputs": [],
   "source": [
    "import numpy as np\n",
    "from scipy.stats import norm\n",
    "from scipy.stats import uniform\n",
    "import matplotlib.pyplot as plt\n",
    "import pandas as pd"
   ]
  },
  {
   "cell_type": "code",
   "execution_count": 2,
   "metadata": {},
   "outputs": [],
   "source": [
    "velocity = pd.read_excel(\"2223G3-SDIA-Galaxy.xlsx\",index_col=None, header=None).to_numpy().ravel()\n",
    "velocity = np.array(velocity,dtype = float)"
   ]
  },
  {
   "cell_type": "code",
   "execution_count": 3,
   "metadata": {},
   "outputs": [
    {
     "data": {
      "text/plain": [
       "(array([7.28588956e-05, 2.91435583e-05, 0.00000000e+00, 0.00000000e+00,\n",
       "        0.00000000e+00, 0.00000000e+00, 0.00000000e+00, 0.00000000e+00,\n",
       "        2.91435583e-05, 0.00000000e+00, 0.00000000e+00, 8.74306748e-05,\n",
       "        2.33148466e-04, 1.74861350e-04, 5.82871165e-05, 1.45717791e-04,\n",
       "        1.02002454e-04, 1.02002454e-04, 7.28588956e-05, 1.45717791e-05,\n",
       "        0.00000000e+00, 2.91435583e-05, 0.00000000e+00, 0.00000000e+00,\n",
       "        0.00000000e+00, 0.00000000e+00, 0.00000000e+00, 1.45717791e-05,\n",
       "        1.45717791e-05, 1.45717791e-05]),\n",
       " array([ 9172. , 10008.9, 10845.8, 11682.7, 12519.6, 13356.5, 14193.4,\n",
       "        15030.3, 15867.2, 16704.1, 17541. , 18377.9, 19214.8, 20051.7,\n",
       "        20888.6, 21725.5, 22562.4, 23399.3, 24236.2, 25073.1, 25910. ,\n",
       "        26746.9, 27583.8, 28420.7, 29257.6, 30094.5, 30931.4, 31768.3,\n",
       "        32605.2, 33442.1, 34279. ]),\n",
       " <a list of 30 Patch objects>)"
      ]
     },
     "execution_count": 3,
     "metadata": {},
     "output_type": "execute_result"
    },
    {
     "data": {
      "image/png": "[encoded data removed]",
      "text/plain": [
       "<Figure size 432x288 with 1 Axes>"
      ]
     },
     "metadata": {
      "needs_background": "light"
     },
     "output_type": "display_data"
    }
   ],
   "source": [
    "plt.hist(velocity,bins = 30, density = True, color = 'yellow', edgecolor = \"red\")"
   ]
  },
  {
   "cell_type": "code",
   "execution_count": 10,
   "metadata": {},
   "outputs": [
    {
     "name": "stderr",
     "output_type": "stream",
     "text": [
      "C:\\Users\\victo\\Anaconda3\\lib\\site-packages\\ipykernel_launcher.py:29: RuntimeWarning: invalid value encountered in true_divide\n"
     ]
    }
   ],
   "source": [
    "import pdb\n",
    "nbMaxIterations = 20\n",
    "# mu_em = np.array([-0.0156, -4.9148, 5.9692])\n",
    "# sigma_em = np.array([1.3395, 1.3395, 1.3395])\n",
    "# alpha_em = np.array([0.4800, 0.2200, 0.3000])\n",
    "\n",
    "mu_em = np.array([10000.,23000.,33000.])\n",
    "sigma_em = np.array([100.,100.,100.])\n",
    "alpha_em = np.array([0.25,0.5,0.25])\n",
    "\n",
    "\n",
    "nbIteration = 1 #Initialisation de la variable d'arrêt\n",
    "nbComposante = len(alpha_em) #Nombre de composantes du mélange\n",
    "nbDonnees = len(velocity)  #Nombre de données\n",
    "p = np.zeros(shape=(nbComposante, nbDonnees))\n",
    "#Déclaration et initialisation de la matrice qui va contenir les probabilités\n",
    "#p(k|x,theta_courant)\n",
    "nbEchantillon = len(velocity)                \n",
    "alpha_em_new = alpha_em\n",
    "sigma_em_carre_new = sigma_em\n",
    "mu_em_new = mu_em\n",
    "donneesP = np.zeros(shape=(nbEchantillon))\n",
    "donnees = np.copy(velocity)\n",
    "\n",
    "while nbIteration < nbMaxIterations:\n",
    "    for n in range(0, nbDonnees, 1):\n",
    "        for k in range(0, nbComposante, 1):\n",
    "            p[k, n] = alpha_em[k] * norm.pdf(x = donnees[n], loc = mu_em[k], scale = sigma_em[k])\n",
    "        p[:, n] = p[:, n] / np.sum(p[:, n])\n",
    "    for k in range(0, nbComposante, 1):\n",
    "        alpha_em_new[k] = np.sum(p[k,:]) / nbDonnees\n",
    "        for n in range(0, nbDonnees, 1):\n",
    "            donneesP[n] = donnees[n] * p[k, n]\n",
    "        mu_em_new[k]  = np.sum(donneesP) / np.sum(p[k, :])\n",
    "        for n in range(nbDonnees):\n",
    "            donneesP[n] = ((donnees[n] - mu_em_new[k]) ** 2) * p[k, n]\n",
    "        sigma_em_carre_new[k] = np.sum(donneesP) / np.sum(p[k, :])\n",
    "    mu_em = mu_em_new\n",
    "    sigma_em = np.sqrt(sigma_em_carre_new)\n",
    "    alpha_em = alpha_em_new\n",
    "    nbIteration = nbIteration + 1"
   ]
  },
  {
   "cell_type": "code",
   "execution_count": 9,
   "metadata": {},
   "outputs": [
    {
     "data": {
      "text/plain": [
       "0.0"
      ]
     },
     "execution_count": 9,
     "metadata": {},
     "output_type": "execute_result"
    }
   ],
   "source": [
    "nbMaxIterations = 20\n",
    "# mu_em = np.array([-0.0156, -4.9148, 5.9692])\n",
    "# sigma_em = np.array([1.3395, 1.3395, 1.3395])\n",
    "# alpha_em = np.array([0.4800, 0.2200, 0.3000])\n",
    "\n",
    "mu_em = np.array([10000,23000,33000])\n",
    "sigma_em = np.array([100,100,100])\n",
    "alpha_em = np.array([0.25,0.5,0.25])\n",
    "\n",
    "\n",
    "nbIteration = 1 #Initialisation de la variable d'arrêt\n",
    "nbComposante = len(alpha_em) #Nombre de composantes du mélange\n",
    "nbDonnees = len(velocity)  #Nombre de données\n",
    "p = np.zeros(shape=(nbComposante, nbDonnees))\n",
    "#Déclaration et initialisation de la matrice qui va contenir les probabilités\n",
    "#p(k|x,theta_courant)\n",
    "nbEchantillon = len(velocity)                \n",
    "alpha_em_new = alpha_em\n",
    "sigma_em_carre_new = sigma_em\n",
    "mu_em_new = mu_em\n",
    "donneesP = np.zeros(shape=(nbEchantillon))\n",
    "donnees = np.copy(velocity)\n",
    "\n",
    "(donnees/10000)[5]*p[0,1]"
   ]
  },
  {
   "cell_type": "code",
   "execution_count": null,
   "metadata": {},
   "outputs": [],
   "source": []
  },
  {
   "cell_type": "code",
   "execution_count": null,
   "metadata": {},
   "outputs": [],
   "source": []
  }
 ],
 "metadata": {
  "kernelspec": {
   "display_name": "Python 3",
   "language": "python",
   "name": "python3"
  }
 },
 "nbformat": 4,
 "nbformat_minor": 2
}
