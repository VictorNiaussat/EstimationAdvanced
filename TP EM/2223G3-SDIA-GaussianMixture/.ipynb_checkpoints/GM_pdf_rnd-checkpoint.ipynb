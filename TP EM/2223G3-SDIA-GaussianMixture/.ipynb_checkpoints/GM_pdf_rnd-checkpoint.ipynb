{
 "cells": [
  {
   "cell_type": "markdown",
   "metadata": {},
   "source": [
    "# Calcul de la valeur de la densité de probabilité d'un mélange de gaussienne en un point\n",
    "# Génération de nombre aléatoire suivant un mélange de gaussienne"
   ]
  },
  {
   "cell_type": "markdown",
   "metadata": {},
   "source": [
    "## Calcul de la valeur de la densité de probabilité d'un mélange de gaussienne en un point\n",
    "### Les paramétres de la fonction gm_pdf\n",
    "<ul>\n",
    "<li>x : le point où l'on calcule la valeur de la densitè</li>\n",
    "<li>mu : le vecteur des moyennes des gaussiennes</li>\n",
    "<li>sigma : le vecteur des écart-types des gaussiennes</li>\n",
    "<li>p : le vecteur des probabilitès de la loi multinomiale associèe</li>\n",
    "</ul>"
   ]
  },
  {
   "cell_type": "code",
   "execution_count": null,
   "metadata": {},
   "outputs": [],
   "source": [
    "import numpy as np\n",
    "from scipy.stats import norm\n",
    "from scipy.stats import uniform\n",
    "import matplotlib.pyplot as plt"
   ]
  },
  {
   "cell_type": "code",
   "execution_count": null,
   "metadata": {},
   "outputs": [],
   "source": [
    "def gm_pdf(x, mu, sigma, p):\n",
    "    #Initialisation de la variable de sortie\n",
    "    resultat = 0.0\n",
    "    #Contrôle de la cohérence des paramètres d'entrée\n",
    "    #Le vecteur de moyenne doit avoir la même longueur que le vecteur p\n",
    "    if len(mu) != len(p):\n",
    "        print('Erreur de dimension sur la moyenne')\n",
    "    # Le vecteur des écart-types doit avoir la même longueur que le vecteur p\n",
    "    elif len(sigma) != len(p):\n",
    "            print('Erreur de dimension sur les écarts-types')\n",
    "    else:\n",
    "    # Calcul de la valeur de la densité\n",
    "        for i in range(0, len(p)):\n",
    "            resultat = resultat + p[i] * norm.pdf(x, mu[i], sigma[i])\n",
    "    return resultat"
   ]
  },
  {
   "cell_type": "markdown",
   "metadata": {},
   "source": [
    "## Génération de nombre aléatoire suivant un mélange de gaussienne\n",
    "Dans un mélange de gaussienne chaque densité de probabilité correspondant à une loi normale est pondérée par un coefficient plus petit que un.\n",
    "La somme de tous ces coefficients est égale à un. Une variable aléatoire qui suit une loi normale suit donc une des lois normales du mélange avec une probabilité égale au coefficient de pondération de cette même loi normale. Pour générer un échantillon suivant une loi normale, il faut donc procéder en deux étapes :\n",
    "<ol>\n",
    "<li>Tirer aléatoirement un nombre entre 1 et N (le nombre de gaussiennes du mélange) suivant une loi mumltinomiale définie par les coefficients du mélange.</li>\n",
    "<li>Une fois ce nombre obtenu, on génère le nombre suivant la loi normale associée.</li>\n",
    "</ol>\n",
    "\n",
    "### Les paramètres de la fonction gm_rnd\n",
    "\n",
    "<ul>\n",
    "<li>mu : le vecteur des moyennes des gaussiennes</li>\n",
    "<li>sigma : le vecteur des écart-types des gaussiennes</li>\n",
    "<li>p : le vecteur des probabilités de la loi multinomiale associée</li>\n",
    "</ul>"
   ]
  },
  {
   "cell_type": "code",
   "execution_count": null,
   "metadata": {},
   "outputs": [],
   "source": [
    "def gm_rnd(mu, sigma, p):\n",
    "    # Initialisation de la variable de sortie\n",
    "    resultat = 0.0\n",
    "    #Contrôle de la cohérence des paramètres d'entrée\n",
    "    #Le vecteur de moyenne doit avoir la même longueur que le vecteur p\n",
    "    if len(mu) != len(p):\n",
    "        print('Erreur de dimension sur la moyenne')\n",
    "    # Le vecteur des écart-types doit avoir la même longueur que le vecteur p\n",
    "    elif len(sigma) != len(p):\n",
    "            print('Erreur de dimension sur sur les écarts-types')\n",
    "    else:\n",
    "    #Génération de l'échantillon\n",
    "    # On échantillonne suivant une loi uniforme sur [0,1]\n",
    "        u = uniform.rvs(loc = 0.0, scale = 1.0, size = 1)\n",
    "    # % Chaque test suivant permet de définir un intervalle sur lequel la\n",
    "    # probabilité d'appartenance de la variable uniforme est égale à l'une des\n",
    "    # probabilités définie dans le vecteur p. Lorsque u appartient à l'un de\n",
    "    # ces intervalles, c'est équivalent à avoir générer une variable aléatoire\n",
    "    # suivant l'un des éléments de p. Par exemple, pour le premier test\n",
    "    # ci-dessous, la probabilité que u appartienne à l'intervalle [0,p[0][ est\n",
    "    # égale à p[0] puisque u suit une loi uniforme. Donc si u appartient à\n",
    "    # [0,p[0][ cela est équivalent à avoir tirer suivant l'événement de probabilité p[0].\n",
    "        if u < p[0]: # On test si on a généré un événement de probabilité p[0]\n",
    "            resultat = sigma[0] * norm.rvs(loc = 0, scale = 1, size = 1) + mu[0]\n",
    "            # Pour générer suivant une loi normale quelconque, il suffit de multiplier\n",
    "            # une variable normale centrée réduite (moyenne nulle et écart-type égal à 1)\n",
    "            # par l'écart-type désité et d'additionner la moyenne désirée au produit précédent.\n",
    "        for i in range(1, len(p)):\n",
    "            if (u > np.sum(p[0:i])) and (u <= np.sum(p[0:i+1])): # On test si on a généré\n",
    "                # un événement de probabilité p[i]\n",
    "                resultat = sigma[i] * norm.rvs(loc = 0.0, scale = 1.0, size = 1) + mu[i]\n",
    "                # Pour générer suivant une loi normale quelconque, il suffit de multiplier\n",
    "                # une variable normale centrée réduite (moyenne nulle et écart-type égal à 1)\n",
    "                # par l'écart-type désité et d'additionner la moyenne désirée au produit précédent.\n",
    "    return resultat"
   ]
  },
  {
   "cell_type": "markdown",
   "metadata": {},
   "source": [
    "### Les paramètres de la densité de mélange de gaussienne"
   ]
  },
  {
   "cell_type": "code",
   "execution_count": null,
   "metadata": {},
   "outputs": [],
   "source": [
    "p = np.array([0.2, 0.5, 0.3])\n",
    "mu = np.array([-5.0, 0.0, 6.0])\n",
    "sigma = np.array([1.0, 0.5, 1.0])"
   ]
  },
  {
   "cell_type": "markdown",
   "metadata": {},
   "source": [
    "### Calcul de la densité de probabilité du mélange de gaussienne"
   ]
  },
  {
   "cell_type": "code",
   "execution_count": null,
   "metadata": {},
   "outputs": [],
   "source": [
    "x = np.arange(-20,20, 0.001)\n",
    "pointPdf = gm_pdf(x, mu, sigma, p)"
   ]
  },
  {
   "cell_type": "markdown",
   "metadata": {},
   "source": [
    "### Tracé de la densité de probabilité du mélange de gaussienne"
   ]
  },
  {
   "cell_type": "code",
   "execution_count": null,
   "metadata": {},
   "outputs": [],
   "source": [
    "plt.plot(x, pointPdf, 'r-')\n",
    "plt.title('Densite de melange')\n",
    "plt.xlabel('x')\n",
    "plt.ylabel('pdf')\n",
    "plt.grid()\n",
    "plt.show()"
   ]
  },
  {
   "cell_type": "markdown",
   "metadata": {},
   "source": [
    "### Génération d'échantillons suivant  densité de probabilité du mélange de gaussienne"
   ]
  },
  {
   "cell_type": "code",
   "execution_count": null,
   "metadata": {},
   "outputs": [],
   "source": [
    "nbEchantillon = 10000\n",
    "donnees = np.array(nbEchantillon*[0],dtype = float)\n",
    "for i in range(0, nbEchantillon, 1):\n",
    "    donnees[i] = gm_rnd(mu, sigma, p)"
   ]
  },
  {
   "cell_type": "markdown",
   "metadata": {},
   "source": [
    "### Tracé des échantillons "
   ]
  },
  {
   "cell_type": "code",
   "execution_count": null,
   "metadata": {},
   "outputs": [],
   "source": [
    "plt.plot(donnees, 'b')\n",
    "plt.title('Melange de gausiennes')\n",
    "plt.xlabel('Index')\n",
    "plt.ylabel('Donnees')\n",
    "plt.grid()\n",
    "plt.show()"
   ]
  },
  {
   "cell_type": "markdown",
   "metadata": {},
   "source": [
    "### Tracé des échantillons"
   ]
  },
  {
   "cell_type": "code",
   "execution_count": null,
   "metadata": {},
   "outputs": [],
   "source": [
    "plt.plot(donnees, 'g.')\n",
    "plt.title('Melange de gausiennes')\n",
    "plt.xlabel('Index')\n",
    "plt.ylabel('Donnees')\n",
    "plt.grid()\n",
    "plt.show()"
   ]
  },
  {
   "cell_type": "markdown",
   "metadata": {},
   "source": [
    "### Tracé de l'histogramme des échantillons"
   ]
  },
  {
   "cell_type": "code",
   "execution_count": null,
   "metadata": {},
   "outputs": [],
   "source": [
    "plt.hist(donnees, bins = 45, density = False, edgecolor = \"red\")\n",
    "plt.title('Melange de gausiennes')\n",
    "plt.xlabel('Donnees')\n",
    "plt.show()"
   ]
  },
  {
   "cell_type": "markdown",
   "metadata": {},
   "source": [
    "### Tracé de l'histogramme des échantillons"
   ]
  },
  {
   "cell_type": "code",
   "execution_count": null,
   "metadata": {},
   "outputs": [],
   "source": [
    "plt.hist(donnees, bins = 30, density = True, color = 'yellow', edgecolor = \"red\")\n",
    "plt.title('Melange de gausiennes')\n",
    "plt.xlabel('Donnees')\n",
    "plt.show()"
   ]
  }
 ],
 "metadata": {
  "kernelspec": {
   "display_name": "Python 3 (ipykernel)",
   "language": "python",
   "name": "python3"
  },
  "language_info": {
   "codemirror_mode": {
    "name": "ipython",
    "version": 3
   },
   "file_extension": ".py",
   "mimetype": "text/x-python",
   "name": "python",
   "nbconvert_exporter": "python",
   "pygments_lexer": "ipython3",
   "version": "3.8.13"
  }
 },
 "nbformat": 4,
 "nbformat_minor": 2
}
